{
 "cells": [
  {
   "cell_type": "code",
   "execution_count": 2,
   "metadata": {},
   "outputs": [
    {
     "data": {
      "text/html": [
       "<div id=\"glowscript\" class=\"glowscript\"></div>"
      ],
      "text/plain": [
       "<IPython.core.display.HTML object>"
      ]
     },
     "metadata": {},
     "output_type": "display_data"
    },
    {
     "data": {
      "application/javascript": [
       "window.__context = { glowscript_container: $(\"#glowscript\").removeAttr(\"id\")}"
      ],
      "text/plain": [
       "<IPython.core.display.Javascript object>"
      ]
     },
     "metadata": {},
     "output_type": "display_data"
    },
    {
     "ename": "AttributeError",
     "evalue": "'sphere' object has no attribute 'v'",
     "output_type": "error",
     "traceback": [
      "\u001b[0;31m---------------------------------------------------------------------------\u001b[0m",
      "\u001b[0;31mAttributeError\u001b[0m                            Traceback (most recent call last)",
      "\u001b[0;32m<ipython-input-2-5ced6d15c1cb>\u001b[0m in \u001b[0;36m<module>\u001b[0;34m()\u001b[0m\n\u001b[1;32m     21\u001b[0m \u001b[0;32mwhile\u001b[0m \u001b[0mball\u001b[0m\u001b[0;34m.\u001b[0m\u001b[0mpos\u001b[0m\u001b[0;34m.\u001b[0m\u001b[0my\u001b[0m\u001b[0;34m>\u001b[0m\u001b[0;36m0\u001b[0m\u001b[0;34m:\u001b[0m  \u001b[0;31m#Stop when ball hits floor\u001b[0m\u001b[0;34m\u001b[0m\u001b[0m\n\u001b[1;32m     22\u001b[0m     \u001b[0mrate\u001b[0m\u001b[0;34m(\u001b[0m\u001b[0;36m40\u001b[0m\u001b[0;34m)\u001b[0m   \u001b[0;31m#Determines how quickly program runs (roughly 30 frames per second)\u001b[0m\u001b[0;34m\u001b[0m\u001b[0m\n\u001b[0;32m---> 23\u001b[0;31m     \u001b[0mball\u001b[0m\u001b[0;34m.\u001b[0m\u001b[0mpos\u001b[0m \u001b[0;34m=\u001b[0m \u001b[0mball\u001b[0m\u001b[0;34m.\u001b[0m\u001b[0mpos\u001b[0m \u001b[0;34m+\u001b[0m \u001b[0mball\u001b[0m\u001b[0;34m.\u001b[0m\u001b[0mv\u001b[0m\u001b[0;34m*\u001b[0m\u001b[0mdt\u001b[0m  \u001b[0;31m#Update position of ball\u001b[0m\u001b[0;34m\u001b[0m\u001b[0m\n\u001b[0m\u001b[1;32m     24\u001b[0m     \u001b[0mball\u001b[0m\u001b[0;34m.\u001b[0m\u001b[0mv\u001b[0m \u001b[0;34m=\u001b[0m \u001b[0mball\u001b[0m\u001b[0;34m.\u001b[0m\u001b[0mv\u001b[0m   \u001b[0;31m#Update velocity of ball\u001b[0m\u001b[0;34m\u001b[0m\u001b[0m\n\u001b[1;32m     25\u001b[0m     \u001b[0mt\u001b[0m\u001b[0;34m+=\u001b[0m\u001b[0mdt\u001b[0m   \u001b[0;31m#Calculate total time elapsed\u001b[0m\u001b[0;34m\u001b[0m\u001b[0m\n",
      "\u001b[0;31mAttributeError\u001b[0m: 'sphere' object has no attribute 'v'"
     ]
    }
   ],
   "source": [
    "from vpython import *\n",
    "from math import *\n",
    "import matplotlib.pyplot as plt\n",
    "%matplotlib inline\n",
    "\n",
    "scene=canvas(title='Charges in a Wire')   #Sets title for graphics window\n",
    "scene.range=5    #Determines how wide graphics window is (sorta)\n",
    "scene.center=vector(0,0,0)\n",
    "\n",
    "dt = 0.01   #dt is the time step 'Delta t'\n",
    "t=0   #Set initial time to zero\n",
    "L = 10   #Length of wire\n",
    "W=1  #Width of wire\n",
    "H=1   #Height of wire\n",
    "q=-1   #Charge\n",
    "R=0.5   #Radius of electrons\n",
    "N=10  #Number of electrons\n",
    "\n",
    "ball = sphere(pos=vector(0,H,0), radius=.2, color=color.red,make_trail=True)   #Create sphere that will appear on screen #Create green \"grass\" to give a reference frame\n",
    "wire = box(pos=vector(0,0,0), color=color.blue, size=vector(L,W,H),opacity=0.4)\n",
    "electrons=[]\n",
    "\n",
    "for i in range(N):\n",
    "    electrons[i] = sphere(pos=vector(x1,y1,z1), radius=R, color=color.red)\n",
    "\n",
    "Running=True\n",
    "\n",
    "scene.waitfor(\"click\")   #Don't go onto the next step until you have clicked on the screen\n",
    "while Running:  #Stop when ball hits floor\n",
    "    rate(40)   #Determines how quickly program runs (roughly 30 frames per second)\n",
    "    ball.pos = ball.pos + ball.v*dt  #Update position of ball\n",
    "    ball.v = ball.v   #Update velocity of ball\n",
    "    t+=dt   #Calculate total time elapsed\n"
   ]
  },
  {
   "cell_type": "code",
   "execution_count": null,
   "metadata": {},
   "outputs": [],
   "source": []
  }
 ],
 "metadata": {
  "kernelspec": {
   "display_name": "Python 3",
   "language": "python",
   "name": "python3"
  },
  "language_info": {
   "codemirror_mode": {
    "name": "ipython",
    "version": 3
   },
   "file_extension": ".py",
   "mimetype": "text/x-python",
   "name": "python",
   "nbconvert_exporter": "python",
   "pygments_lexer": "ipython3",
   "version": "3.6.3"
  }
 },
 "nbformat": 4,
 "nbformat_minor": 2
}
