{
 "cells": [
  {
   "cell_type": "code",
   "execution_count": null,
   "metadata": {},
   "outputs": [],
   "source": [
    "#Exercise 1\n",
    "import matplotlib.pyplot as plt\n",
    "%matplotlib inline\n",
    "\n",
    "rho=1.02\n",
    "g=9.81\n",
    "r=0.05\n",
    "A=pi*r**2\n",
    "avg_vel = [0.65, 0.65, 0.65, 0.65, 0.65  ]\n",
    "mass = [1.3, 2.6, 3.9, 5.2,6.5  ]\n",
    "\n",
    "plt.plot(mass, avg_vel)\n",
    "plt.title('Determining Drag Coefficient')\n",
    "plt.xlabel('mass (g)')\n",
    "plt.ylabel('y')\n",
    "plt.show()\n"
   ]
  },
  {
   "cell_type": "code",
   "execution_count": null,
   "metadata": {},
   "outputs": [],
   "source": [
    "#Exercise 2\n",
    "from vpython import *\n",
    "from math import *\n",
    "\n",
    "scene=canvas(title='Air Drag Cone')   #Sets title for graphics window\n",
    "scene.range=5    #Determines how wide graphics window is (sorta)\n",
    "scene.center=vector(0,0,0)\n",
    "\n",
    "dt = 0.01    #dt is the time step 'Delta t'\n",
    "t=0   #Set initial time to zero\n",
    "g = vector(0,-9.8,0)\n",
    "h = 5   #initial height of ball\n",
    "theta=pi/2\n",
    "v_init=0\n",
    "v=vector(v_init*cos(theta),v_init*sin(theta),0)\n",
    "\n",
    "\n",
    "funnel = cone(pos=vector(2,h,0), radius=.2, color=color.red,axis=vector(0,-2,0), make_trail=True) \n",
    "ground = box(pos=vector(0,0,0),color=color.green,size=vector(10,.1,5))  #Create green \"grass\" to give a reference frame\n",
    "table = box(pos=vector(-0.5,h/2,0), color=color.blue, size=vector(1,h,1))  #Create a \"table\" for reference\n",
    "funnel.m = 1   #Mass of ball\n",
    "funnel.v = v    #Initial velocity vector of ball\n",
    "\n",
    "scene.waitfor(\"click\")   #You must click on the image before it will start moving\n",
    "while funnel.pos.y>0+funnel.axis.mag():  #Stop when ball hits floor\n",
    "    rate(40)   #Determines how quickly program runs (roughly 30 frames per second)\n",
    "    funnel.pos = funnel.pos + funnel.v*dt  #Update position of ball\n",
    "    funnel.v = funnel.v + g*dt  #Update momentum of ball\n",
    "    t+=dt   #Calculate total time elapsed\n",
    "\n",
    "print(\"Time elapsed = \", t)\n",
    "print(\"Horizontal distance traveled = \", ball.pos.x)"
   ]
  },
  {
   "cell_type": "code",
   "execution_count": null,
   "metadata": {},
   "outputs": [],
   "source": []
  }
 ],
 "metadata": {
  "kernelspec": {
   "display_name": "Python 3",
   "language": "python",
   "name": "python3"
  },
  "language_info": {
   "codemirror_mode": {
    "name": "ipython",
    "version": 3
   },
   "file_extension": ".py",
   "mimetype": "text/x-python",
   "name": "python",
   "nbconvert_exporter": "python",
   "pygments_lexer": "ipython3",
   "version": "3.6.3"
  }
 },
 "nbformat": 4,
 "nbformat_minor": 1
}
